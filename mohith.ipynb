{
 "cells": [
  {
   "cell_type": "code",
   "execution_count": 1,
   "metadata": {},
   "outputs": [
    {
     "name": "stdout",
     "output_type": "stream",
     "text": [
      "567\n",
      "CONTINUE TRANSACTION\n"
     ]
    }
   ],
   "source": [
    "#1\n",
    "a=int(input())\n",
    "if a>100 and a<1000:\n",
    "    if a%2 == 0:\n",
    "        print(\"STOP TRANSACTION\")\n",
    "    else:\n",
    "        print(\"CONTINUE TRANSACTION\")"
   ]
  },
  {
   "cell_type": "code",
   "execution_count": 4,
   "metadata": {},
   "outputs": [
    {
     "name": "stdout",
     "output_type": "stream",
     "text": [
      "64\n",
      "Very Over Weight\n"
     ]
    }
   ],
   "source": [
    "#2\n",
    "bmi=int(input())\n",
    "if bmi < 18.5:\n",
    "    print(\"Underweight\")\n",
    "elif 18.5 <= bmi < 24.9:\n",
    "    print(\"Normal weight\")\n",
    "elif 24.9 <= bmi < 29.9:\n",
    "    print(\"Overweight\")\n",
    "else:\n",
    "    print(\"Very Over Weight\")"
   ]
  },
  {
   "cell_type": "code",
   "execution_count": 5,
   "metadata": {},
   "outputs": [
    {
     "name": "stdout",
     "output_type": "stream",
     "text": [
      "A\n",
      "R\n",
      "T\n",
      "I\n",
      "F\n",
      "I\n",
      "C\n",
      "I\n",
      "A\n",
      "L\n",
      " \n",
      "I\n",
      "N\n",
      "T\n",
      "E\n",
      "L\n",
      "L\n",
      "I\n",
      "G\n",
      "E\n",
      "N\n",
      "C\n",
      "E\n"
     ]
    }
   ],
   "source": [
    "#3\n",
    "def func(name):\n",
    "    a=(name)\n",
    "    for i in a:\n",
    "        print(i)\n",
    "func(\"ARTIFICIAL INTELLIGENCE\")"
   ]
  },
  {
   "cell_type": "code",
   "execution_count": 6,
   "metadata": {},
   "outputs": [
    {
     "name": "stdout",
     "output_type": "stream",
     "text": [
      "20 is even\n",
      "16 is even\n",
      "20 is even\n",
      "22 is even\n",
      "24 is even\n",
      "12 is even\n",
      "34 is even\n"
     ]
    }
   ],
   "source": [
    "#4\n",
    "def Num():\n",
    "    a = (20, 13, 16, 17, 19, 20, 22, 24, 12, 34, 35)\n",
    "    for i in a:\n",
    "        if i%2==0:\n",
    "            print(i,\"is even\")\n",
    "Num()\n"
   ]
  },
  {
   "cell_type": "code",
   "execution_count": 7,
   "metadata": {},
   "outputs": [
    {
     "name": "stdout",
     "output_type": "stream",
     "text": [
      "Access approved\n"
     ]
    }
   ],
   "source": [
    "#5\n",
    "def auth(id, password):\n",
    "    Expected_password = \"Shitel@123\"\n",
    "    if id == 39012389 and password == Expected_password:\n",
    "        print(\"Access approved\")\n",
    "    else:\n",
    "        print(\"Access denied\")\n",
    "\n",
    "auth(id=39012389, password=\"Shitel@123\")"
   ]
  },
  {
   "cell_type": "code",
   "execution_count": 8,
   "metadata": {},
   "outputs": [
    {
     "name": "stdout",
     "output_type": "stream",
     "text": [
      "Sub-fields in AI are:\n",
      "Machine Learning\n",
      "Neural Networks\n",
      "Vision\n",
      "Robotics\n",
      "Speech Processing\n",
      "Natural Language Processing\n"
     ]
    }
   ],
   "source": [
    "#6\n",
    "def func(*subfield):\n",
    "    Sub=(subfield)\n",
    "    print(\"Sub-fields in AI are:\")\n",
    "    for i in Sub:\n",
    "        print(i)\n",
    "func(\"Machine Learning\",\"Neural Networks\",\"Vision\",\n",
    "     \"Robotics\",\"Speech Processing\",\"Natural Language Processing\")"
   ]
  },
  {
   "cell_type": "code",
   "execution_count": 9,
   "metadata": {},
   "outputs": [
    {
     "name": "stdout",
     "output_type": "stream",
     "text": [
      "subject1= 23\n",
      "subject2= 45\n",
      "subject3= 34\n",
      "subject4= 23\n",
      "subject5= 23\n",
      "total: 148\n",
      "percentage: 29.6\n"
     ]
    }
   ],
   "source": [
    "#7\n",
    "def stud_marks(sub_1,sub_2,sub_3,sub_4,sub_5):\n",
    "    print(\"subject1=\",sub_1)\n",
    "    print(\"subject2=\",sub_2)\n",
    "    print(\"subject3=\",sub_3)\n",
    "    print(\"subject4=\",sub_4)\n",
    "    print(\"subject5=\",sub_5)\n",
    "    Total=sub_1+sub_2+sub_3+sub_4+sub_5\n",
    "    print(\"total:\",Total)\n",
    "    percentage=Total/5\n",
    "    print(\"percentage:\",percentage)\n",
    "stud_marks(sub_1=23,sub_2=45,sub_3=34,sub_4=23,sub_5=23)\n",
    "\n"
   ]
  },
  {
   "cell_type": "code",
   "execution_count": 10,
   "metadata": {},
   "outputs": [
    {
     "name": "stdout",
     "output_type": "stream",
     "text": [
      "area of tri: 6.0\n",
      "peri of tri: 52\n"
     ]
    }
   ],
   "source": [
    "#8\n",
    "def area(height,breadth):\n",
    "    print(\"area of tri:\",height*breadth/2)\n",
    "area(3,4)\n",
    "\n",
    "def perimeter(height1,height2,breadth):\n",
    "    print(\"peri of tri:\",height1+height2+breadth)\n",
    "perimeter(3,4,45)"
   ]
  },
  {
   "cell_type": "code",
   "execution_count": 12,
   "metadata": {},
   "outputs": [
    {
     "name": "stdout",
     "output_type": "stream",
     "text": [
      "Sub-fields in AI are:\n",
      "Machine Learning\n",
      "Neural Networks\n",
      "Vision\n",
      "Robotics\n",
      "Speech Processing\n",
      "Natural Language Processing\n",
      "subject1= 23\n",
      "subject2= 45\n",
      "subject3= 34\n",
      "subject4= 23\n",
      "subject5= 23\n",
      "total: 148\n",
      "percentage: 29.6\n",
      "area of tri: 6.0\n",
      "peri of tri: 52\n"
     ]
    }
   ],
   "source": [
    "#9\n",
    "class informetrics:\n",
    "    def func(*subfield):\n",
    "        Sub = (subfield)\n",
    "        print(\"Sub-fields in AI are:\")\n",
    "        for i in Sub:\n",
    "            print(i)\n",
    "\n",
    "    func(\"Machine Learning\", \"Neural Networks\", \"Vision\",\n",
    "         \"Robotics\", \"Speech Processing\", \"Natural Language Processing\")\n",
    "\n",
    "    def stud_marks(sub_1, sub_2, sub_3, sub_4, sub_5):\n",
    "        print(\"subject1=\", sub_1)\n",
    "        print(\"subject2=\", sub_2)\n",
    "        print(\"subject3=\", sub_3)\n",
    "        print(\"subject4=\", sub_4)\n",
    "        print(\"subject5=\", sub_5)\n",
    "        Total = sub_1 + sub_2 + sub_3 + sub_4 + sub_5\n",
    "        print(\"total:\", Total)\n",
    "        percentage = Total / 5\n",
    "        print(\"percentage:\", percentage)\n",
    "\n",
    "    stud_marks(sub_1=23, sub_2=45, sub_3=34, sub_4=23, sub_5=23)\n",
    "\n",
    "    def area(height, breadth):\n",
    "        print(\"area of tri:\", height * breadth / 2)\n",
    "\n",
    "    area(3, 4)\n",
    "\n",
    "    def perimeter(height1, height2, breadth):\n",
    "        print(\"peri of tri:\", height1 + height2 + breadth)\n",
    "\n",
    "    perimeter(3, 4, 45)\n",
    "\n",
    "\n",
    "\n"
   ]
  },
  {
   "cell_type": "code",
   "execution_count": 16,
   "metadata": {},
   "outputs": [
    {
     "ename": "ModuleNotFoundError",
     "evalue": "No module named 'class_infometrics'",
     "output_type": "error",
     "traceback": [
      "\u001b[1;31m---------------------------------------------------------------------------\u001b[0m",
      "\u001b[1;31mModuleNotFoundError\u001b[0m                       Traceback (most recent call last)",
      "\u001b[1;32m<ipython-input-16-000b195b718b>\u001b[0m in \u001b[0;36m<module>\u001b[1;34m\u001b[0m\n\u001b[1;32m----> 1\u001b[1;33m \u001b[1;32mimport\u001b[0m \u001b[0mclass_infometrics\u001b[0m\u001b[1;33m\u001b[0m\u001b[1;33m\u001b[0m\u001b[0m\n\u001b[0m",
      "\u001b[1;31mModuleNotFoundError\u001b[0m: No module named 'class_infometrics'"
     ]
    }
   ],
   "source": []
  },
  {
   "cell_type": "code",
   "execution_count": null,
   "metadata": {},
   "outputs": [],
   "source": []
  }
 ],
 "metadata": {
  "kernelspec": {
   "display_name": "Python 3",
   "language": "python",
   "name": "python3"
  },
  "language_info": {
   "codemirror_mode": {
    "name": "ipython",
    "version": 3
   },
   "file_extension": ".py",
   "mimetype": "text/x-python",
   "name": "python",
   "nbconvert_exporter": "python",
   "pygments_lexer": "ipython3",
   "version": "3.7.4"
  }
 },
 "nbformat": 4,
 "nbformat_minor": 2
}
